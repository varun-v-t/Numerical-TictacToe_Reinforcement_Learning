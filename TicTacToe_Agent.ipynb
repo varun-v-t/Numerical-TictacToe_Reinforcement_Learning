{
 "cells": [
  {
   "cell_type": "markdown",
   "metadata": {
    "id": "rznSDgbvGggG"
   },
   "source": [
    "## Tic-Tac-Toe Agent\n",
    "​\n",
    "In this notebook, you will learn to build an RL agent (using Q-learning) that learns to play Numerical Tic-Tac-Toe with odd numbers. The environment is playing randomly with the agent, i.e. its strategy is to put an even number randomly in an empty cell. The following is the layout of the notebook:\n",
    "        - Defining epsilon-greedy strategy\n",
    "        - Tracking state-action pairs for convergence\n",
    "        - Define hyperparameters for the Q-learning algorithm\n",
    "        - Generating episode and applying Q-update equation\n",
    "        - Checking convergence in Q-values"
   ]
  },
  {
   "cell_type": "markdown",
   "metadata": {
    "id": "8eDb8PxBGggH"
   },
   "source": [
    "#### Importing libraries\n",
    "Write the code to import Tic-Tac-Toe class from the environment file"
   ]
  },
  {
   "cell_type": "code",
   "execution_count": 1,
   "metadata": {
    "ExecuteTime": {
     "end_time": "2021-04-05T05:29:03.857418Z",
     "start_time": "2021-04-05T05:29:02.963571Z"
    },
    "id": "6SFNYceFGggJ"
   },
   "outputs": [],
   "source": [
    "from TCGame_Env import TicTacToe # - import your class from environment file\n",
    "import collections\n",
    "import numpy as np\n",
    "import random     \n",
    "import pickle\n",
    "import time as tick\n",
    "from matplotlib import pyplot as plt\n",
    "from tqdm import tqdm\n",
    "np.random.seed(42)\n",
    "random.seed(0)"
   ]
  },
  {
   "cell_type": "code",
   "execution_count": 2,
   "metadata": {
    "id": "wYLQyopEG8nz"
   },
   "outputs": [],
   "source": [
    "# Function to convert state array into a string to store it as keys in the dictionary\n",
    "# states in Q-dictionary will be of form: x-4-5-3-8-x-x-x-x\n",
    "#   x | 4 | 5\n",
    "#   ----------\n",
    "#   3 | 8 | x\n",
    "#   ----------\n",
    "#   x | x | x\n",
    "\n",
    "def Q_state(state):\n",
    "\n",
    "    return ('-'.join(str(e) for e in state)).replace('nan','x')"
   ]
  },
  {
   "cell_type": "code",
   "execution_count": 3,
   "metadata": {
    "id": "ZebMOoiVHBBr"
   },
   "outputs": [],
   "source": [
    "# Defining a function which will return valid (all possible actions) actions corresponding to a state\n",
    "# Important to avoid errors during deployment.\n",
    "\n",
    "def valid_actions(state):\n",
    "\n",
    "    valid_Actions = []\n",
    "    \n",
    "    valid_Actions = [i for i in env.action_space(state)[0]] ###### -------please call your environment as env\n",
    "    return valid_Actions"
   ]
  },
  {
   "cell_type": "code",
   "execution_count": 4,
   "metadata": {
    "id": "IRciPUkYHDWf"
   },
   "outputs": [],
   "source": [
    "# Defining a function which will add new Q-values to the Q-dictionary. \n",
    "def add_to_dict(state):\n",
    "    state1 = Q_state(state)\n",
    "    \n",
    "    valid_act = valid_actions(state)\n",
    "    if state1 not in Q_dict.keys():\n",
    "        for action in valid_act:\n",
    "            Q_dict[state1][action]=0"
   ]
  },
  {
   "cell_type": "markdown",
   "metadata": {
    "id": "fNNi_EfHGggM"
   },
   "source": [
    "#### Epsilon-greedy strategy"
   ]
  },
  {
   "cell_type": "code",
   "execution_count": 5,
   "metadata": {
    "id": "m0lMfqiJGggN"
   },
   "outputs": [],
   "source": [
    "# Defining epsilon-greedy policy. You can choose any function epsilon-decay strategy\n",
    "\n",
    "def epsilon_greedy(state, time):\n",
    "    max_epsilon = 1.0\n",
    "    min_epsilon = 0.001\n",
    "\n",
    "    epsilon = min_epsilon + (max_epsilon - min_epsilon) * np.exp(-0.000001*time)\n",
    "    z = np.random.random()       \n",
    "    if z > epsilon:\n",
    "        action = max(Q_dict[Q_state(state)],key=Q_dict[Q_state(state)].get)\n",
    "    else:\n",
    "        action = random.sample(valid_actions(state),1)[0]   \n",
    "    \n",
    "    return action\n",
    "\n"
   ]
  },
  {
   "cell_type": "markdown",
   "metadata": {
    "id": "H2kyQHOMGggR"
   },
   "source": [
    "#### Tracking the state-action pairs for checking convergence - write your code here"
   ]
  },
  {
   "cell_type": "code",
   "execution_count": 6,
   "metadata": {
    "id": "qcxZ29vdGggS"
   },
   "outputs": [],
   "source": [
    "# Initialise Q_dictionary as 'Q_dict' and States_tracked as 'States_track' (for convergence)\n",
    "Q_dict = collections.defaultdict(dict)\n",
    "States_track = collections.defaultdict(dict)"
   ]
  },
  {
   "cell_type": "code",
   "execution_count": 7,
   "metadata": {
    "id": "vs73iv8fHOxV"
   },
   "outputs": [],
   "source": [
    "# Initialise states to be tracked\n",
    "def initialise_tracking_states():\n",
    "    # Lets choose some states to track q-value convergence\n",
    "    sample_q_values = [('x-3-x-x-x-6-x-x-x',(0,1)),\n",
    "                       ('x-1-x-x-x-x-8-x-x',(2,9)),\n",
    "                       ('x-x-x-x-6-x-x-x-5',(2,7)),\n",
    "                       ('x-x-x-x-9-x-6-x-x',(1,7)),\n",
    "                       ('x-5-x-2-x-x-4-7-x',(0,9)),\n",
    "                       ('9-x-5-x-x-x-8-x-4',(1,3)),\n",
    "                       ('2-7-x-x-6-x-x-3-x',(8,5)),\n",
    "                       ('9-x-x-x-x-2-x-x-x',(2,5)),\n",
    "                       ('x-x-7-x-x-x-x-x-2',(1,5)),\n",
    "                       ('5-x-x-x-x-6-x-x-x',(4,9)),\n",
    "                       ('4-x-x-6-x-x-3-1-x',(8,5)),\n",
    "                       ('5-x-8-x-x-6-3-x-x',(3,1)),\n",
    "                       ('x-6-5-x-2-x-x-3-x',(0,7)),\n",
    "                       ('7-x-5-x-2-x-x-x-6',(1,3))]\n",
    "    for q_values in sample_q_values:\n",
    "        state = q_values[0]\n",
    "        action = q_values[1]\n",
    "        States_track[state][action] = []\n",
    "        \n"
   ]
  },
  {
   "cell_type": "code",
   "execution_count": 8,
   "metadata": {
    "id": "dAbwJDMVHpwl"
   },
   "outputs": [],
   "source": [
    "#Defining a function to save the Q-dictionary as a pickle file\n",
    "\n",
    "def save_obj(obj, name ):\n",
    "    with open(name + '.pkl', 'wb') as f:\n",
    "        pickle.dump(obj, f, pickle.HIGHEST_PROTOCOL)"
   ]
  },
  {
   "cell_type": "code",
   "execution_count": 9,
   "metadata": {
    "id": "6Pyj7nMVHsBi"
   },
   "outputs": [],
   "source": [
    "# Lets define function to track states\n",
    "def save_tracking_states():\n",
    "    for state in States_track.keys():\n",
    "        for action in States_track[state].keys():\n",
    "            if state in Q_dict and action in Q_dict[state]:\n",
    "                States_track[state][action].append(Q_dict[state][action])"
   ]
  },
  {
   "cell_type": "code",
   "execution_count": 10,
   "metadata": {
    "id": "B_8xSluUHvew"
   },
   "outputs": [],
   "source": [
    "# Lets initialise tracking states\n",
    "initialise_tracking_states()"
   ]
  },
  {
   "cell_type": "code",
   "execution_count": 11,
   "metadata": {
    "colab": {
     "base_uri": "https://localhost:8080/"
    },
    "id": "zdAfM2UsDJBd",
    "outputId": "aebf7c37-22d2-486c-cb25-8eb3e2745ebd"
   },
   "outputs": [
    {
     "data": {
      "text/plain": [
       "defaultdict(dict,\n",
       "            {'2-7-x-x-6-x-x-3-x': {(8, 5): []},\n",
       "             '4-x-x-6-x-x-3-1-x': {(8, 5): []},\n",
       "             '5-x-8-x-x-6-3-x-x': {(3, 1): []},\n",
       "             '5-x-x-x-x-6-x-x-x': {(4, 9): []},\n",
       "             '7-x-5-x-2-x-x-x-6': {(1, 3): []},\n",
       "             '9-x-5-x-x-x-8-x-4': {(1, 3): []},\n",
       "             '9-x-x-x-x-2-x-x-x': {(2, 5): []},\n",
       "             'x-1-x-x-x-x-8-x-x': {(2, 9): []},\n",
       "             'x-3-x-x-x-6-x-x-x': {(0, 1): []},\n",
       "             'x-5-x-2-x-x-4-7-x': {(0, 9): []},\n",
       "             'x-6-5-x-2-x-x-3-x': {(0, 7): []},\n",
       "             'x-x-7-x-x-x-x-x-2': {(1, 5): []},\n",
       "             'x-x-x-x-6-x-x-x-5': {(2, 7): []},\n",
       "             'x-x-x-x-9-x-6-x-x': {(1, 7): []}})"
      ]
     },
     "execution_count": 11,
     "metadata": {
      "tags": []
     },
     "output_type": "execute_result"
    }
   ],
   "source": [
    "# Lets check if its initialized properly\n",
    "States_track"
   ]
  },
  {
   "cell_type": "markdown",
   "metadata": {
    "id": "-iPt--E9GggV"
   },
   "source": [
    "#### Define hyperparameters  "
   ]
  },
  {
   "cell_type": "code",
   "execution_count": 12,
   "metadata": {
    "id": "G0_f5czFGggW"
   },
   "outputs": [],
   "source": [
    "# Lets define episodes as 6M\n",
    "EPISODES = 6000000\n",
    "# lets define 60,00,00 as checkpoint to print agent win%, env% and tie%\n",
    "checkpoint= 600000\n",
    "STEPS = 30                 #for 30 days\n",
    "#lets define learning rate as 0.2. This value was decided after tuning hyperparameters\n",
    "LR = 0.2                 #learning rate\n",
    "# Lets define discount factor . This was also decided after tuning hyperparameters\n",
    "GAMMA = 0.91\n",
    "\n",
    "threshold = 2000       #every these many episodes, the 4 Q-values will be stored/appended (convergence graphs)\n",
    "#threshold = 1\n",
    "policy_threshold = 30000    #every these many episodes, the Q-dict will be updated\n",
    "#policy_threshold = 3"
   ]
  },
  {
   "cell_type": "markdown",
   "metadata": {
    "id": "Md6twJ7wGggh"
   },
   "source": [
    "### Q-update loop"
   ]
  },
  {
   "cell_type": "code",
   "execution_count": 13,
   "metadata": {
    "colab": {
     "base_uri": "https://localhost:8080/"
    },
    "id": "ssHB8wYMDJBe",
    "outputId": "836ae5c2-58a9-47fe-adf5-8998a575a722"
   },
   "outputs": [
    {
     "name": "stdout",
     "output_type": "stream",
     "text": [
      "Initial State\n",
      "<class 'float'>\n"
     ]
    }
   ],
   "source": [
    "# Define Environment\n",
    "env = TicTacToe()\n",
    "# initialise reward\n",
    "reward = 0\n",
    "# Get Current state\n",
    "curr_state = env.state\n",
    "print(\"Initial State\")\n",
    "print(type(curr_state[0]))\n",
    "# Add to Q Dictionary\n",
    "add_to_dict(curr_state)\n",
    "# initialise total reward\n",
    "total_reward = 0\n",
    "time_step = 0\n",
    "# boolean to check if game ended\n",
    "game_end = False"
   ]
  },
  {
   "cell_type": "code",
   "execution_count": 14,
   "metadata": {
    "colab": {
     "base_uri": "https://localhost:8080/"
    },
    "id": "C1b34LWvDJBf",
    "outputId": "ca322d54-fccc-4652-b1dd-f7cee0118a27"
   },
   "outputs": [
    {
     "data": {
      "text/plain": [
       "defaultdict(dict,\n",
       "            {'x-x-x-x-x-x-x-x-x': {(0, 1): 0,\n",
       "              (0, 3): 0,\n",
       "              (0, 5): 0,\n",
       "              (0, 7): 0,\n",
       "              (0, 9): 0,\n",
       "              (1, 1): 0,\n",
       "              (1, 3): 0,\n",
       "              (1, 5): 0,\n",
       "              (1, 7): 0,\n",
       "              (1, 9): 0,\n",
       "              (2, 1): 0,\n",
       "              (2, 3): 0,\n",
       "              (2, 5): 0,\n",
       "              (2, 7): 0,\n",
       "              (2, 9): 0,\n",
       "              (3, 1): 0,\n",
       "              (3, 3): 0,\n",
       "              (3, 5): 0,\n",
       "              (3, 7): 0,\n",
       "              (3, 9): 0,\n",
       "              (4, 1): 0,\n",
       "              (4, 3): 0,\n",
       "              (4, 5): 0,\n",
       "              (4, 7): 0,\n",
       "              (4, 9): 0,\n",
       "              (5, 1): 0,\n",
       "              (5, 3): 0,\n",
       "              (5, 5): 0,\n",
       "              (5, 7): 0,\n",
       "              (5, 9): 0,\n",
       "              (6, 1): 0,\n",
       "              (6, 3): 0,\n",
       "              (6, 5): 0,\n",
       "              (6, 7): 0,\n",
       "              (6, 9): 0,\n",
       "              (7, 1): 0,\n",
       "              (7, 3): 0,\n",
       "              (7, 5): 0,\n",
       "              (7, 7): 0,\n",
       "              (7, 9): 0,\n",
       "              (8, 1): 0,\n",
       "              (8, 3): 0,\n",
       "              (8, 5): 0,\n",
       "              (8, 7): 0,\n",
       "              (8, 9): 0}})"
      ]
     },
     "execution_count": 14,
     "metadata": {
      "tags": []
     },
     "output_type": "execute_result"
    }
   ],
   "source": [
    "# Lets check initial Q dictionary\n",
    "Q_dict"
   ]
  },
  {
   "cell_type": "markdown",
   "metadata": {
    "id": "oDQjXGlNjBVM"
   },
   "source": [
    "# Modeling\n"
   ]
  },
  {
   "cell_type": "code",
   "execution_count": 15,
   "metadata": {
    "colab": {
     "base_uri": "https://localhost:8080/"
    },
    "id": "ldCgQuDNGggj",
    "outputId": "c187f350-d247-47b8-fb62-cb584f69ac49"
   },
   "outputs": [
    {
     "name": "stderr",
     "output_type": "stream",
     "text": [
      " 10%|█         | 600083/6000000 [13:54<1:52:42, 798.49it/s]"
     ]
    },
    {
     "name": "stdout",
     "output_type": "stream",
     "text": [
      "Number of games played  600000 agent win % 29.314833333333333 environment win % 26.905666666666665 Match Tie % 43.7795\n"
     ]
    },
    {
     "name": "stderr",
     "output_type": "stream",
     "text": [
      " 20%|██        | 1200103/6000000 [25:24<1:23:18, 960.20it/s]"
     ]
    },
    {
     "name": "stdout",
     "output_type": "stream",
     "text": [
      "Number of games played  1200000 agent win % 41.56316666666667 environment win % 22.794416666666667 Match Tie % 35.64241666666666\n"
     ]
    },
    {
     "name": "stderr",
     "output_type": "stream",
     "text": [
      " 30%|███       | 1800130/6000000 [35:35<1:09:05, 1013.03it/s]"
     ]
    },
    {
     "name": "stdout",
     "output_type": "stream",
     "text": [
      "Number of games played  1800000 agent win % 51.98044444444444 environment win % 19.22588888888889 Match Tie % 28.793666666666667\n"
     ]
    },
    {
     "name": "stderr",
     "output_type": "stream",
     "text": [
      " 40%|████      | 2400164/6000000 [45:03<55:43, 1076.77it/s]"
     ]
    },
    {
     "name": "stdout",
     "output_type": "stream",
     "text": [
      "Number of games played  2400000 agent win % 59.64879166666667 environment win % 16.466 Match Tie % 23.88520833333333\n"
     ]
    },
    {
     "name": "stderr",
     "output_type": "stream",
     "text": [
      " 50%|█████     | 3000151/6000000 [54:13<44:55, 1112.75it/s]"
     ]
    },
    {
     "name": "stdout",
     "output_type": "stream",
     "text": [
      "Number of games played  3000000 agent win % 65.24013333333333 environment win % 14.327666666666666 Match Tie % 20.4322\n"
     ]
    },
    {
     "name": "stderr",
     "output_type": "stream",
     "text": [
      " 60%|██████    | 3600146/6000000 [1:03:12<35:37, 1122.95it/s]"
     ]
    },
    {
     "name": "stdout",
     "output_type": "stream",
     "text": [
      "Number of games played  3600000 agent win % 69.48380555555556 environment win % 12.573361111111112 Match Tie % 17.942833333333333\n"
     ]
    },
    {
     "name": "stderr",
     "output_type": "stream",
     "text": [
      " 70%|███████   | 4200190/6000000 [1:12:13<26:43, 1122.35it/s]"
     ]
    },
    {
     "name": "stdout",
     "output_type": "stream",
     "text": [
      "Number of games played  4200000 agent win % 72.85397619047619 environment win % 11.12452380952381 Match Tie % 16.0215\n"
     ]
    },
    {
     "name": "stderr",
     "output_type": "stream",
     "text": [
      " 80%|████████  | 4800164/6000000 [1:21:11<18:20, 1090.58it/s]"
     ]
    },
    {
     "name": "stdout",
     "output_type": "stream",
     "text": [
      "Number of games played  4800000 agent win % 75.61375 environment win % 9.892541666666666 Match Tie % 14.493708333333332\n"
     ]
    },
    {
     "name": "stderr",
     "output_type": "stream",
     "text": [
      " 90%|█████████ | 5400116/6000000 [1:30:19<09:25, 1061.73it/s]"
     ]
    },
    {
     "name": "stdout",
     "output_type": "stream",
     "text": [
      "Number of games played  5400000 agent win % 77.84783333333334 environment win % 8.881518518518519 Match Tie % 13.270648148148148\n"
     ]
    },
    {
     "name": "stderr",
     "output_type": "stream",
     "text": [
      "100%|██████████| 6000000/6000000 [1:39:24<00:00, 1005.94it/s]\n"
     ]
    },
    {
     "name": "stdout",
     "output_type": "stream",
     "text": [
      "Number of games played  6000000 agent win % 79.62351666666667 environment win % 8.080866666666667 Match Tie % 12.295616666666668\n"
     ]
    }
   ],
   "source": [
    "# Start the clock\n",
    "start_time = tick.time()\n",
    "# to calculate agent win %\n",
    "agent_win=0\n",
    "# to calculate environment win %\n",
    "env_win=0\n",
    "# to calculate match tie %\n",
    "match_tie=0\n",
    "# lets define 60,00,00 as checkpoint to print agent win%, env% and tie%\n",
    "checkpoint=600000\n",
    "# to print number of episodes\n",
    "ep_check=10000\n",
    "for episode in tqdm(range(EPISODES)):\n",
    "    \n",
    "    # Define Environment\n",
    "    env = TicTacToe()\n",
    "    # initialize reward to maximise to 0\n",
    "    reward = 0\n",
    "    # Get Current state\n",
    "    curr_state = env.state\n",
    "    # Add to Q Dictionary\n",
    "    add_to_dict(curr_state)\n",
    "    # initialize total reward\n",
    "    total_reward = 0\n",
    "    time_step = 0\n",
    "    game_end = False\n",
    "    #print(\"game starts\\n\",np.matrix(curr_state).reshape((3,3)))\n",
    "    # play untill game ends for the current episode\n",
    "    while not game_end:\n",
    "        # Get action based upon expoloration/exploitation\n",
    "        curr_action = epsilon_greedy(curr_state, episode)\n",
    "        \n",
    "        #print(\"agent action\",curr_action)\n",
    "        # get next state, reward and if game finished, after a play\n",
    "        next_state,reward,game_end = env.step(curr_state,curr_action)\n",
    "        # Get Q State\n",
    "        curr_q = Q_state(curr_state)\n",
    "        next_q = Q_state(next_state)\n",
    "        # Check if game ended\n",
    "        if game_end:\n",
    "            # print(\"reward\",reward,\"total reward\",total_reward+reward)\n",
    "            q_value_max = 0\n",
    "            # Set rewards\n",
    "            if reward==-10:\n",
    "                env_win+=1\n",
    "            elif reward==10:\n",
    "                agent_win+=1\n",
    "            elif reward==0:\n",
    "                match_tie+=1\n",
    "        else:\n",
    "            # Update dictionary\n",
    "            add_to_dict(next_state)\n",
    "            # Get maximum valued next state \n",
    "            max_next=max(Q_dict[next_q],key=Q_dict[next_q].get)\n",
    "            # Get value for maximum value\n",
    "            q_value_max = Q_dict[next_q][max_next] \n",
    "            #print(\"reward\",reward)\n",
    "        # Update Q Dictionary with value based on the formula\n",
    "        Q_dict[curr_q][curr_action] += LR * ((reward + (GAMMA * (q_value_max))) - Q_dict[curr_q][curr_action])\n",
    "        # Update current state to next\n",
    "        curr_state = next_state\n",
    "        # add to total reward\n",
    "        total_reward+=reward\n",
    "        #print(\"curr_state\\n\",np.matrix(curr_state).reshape((3,3)))\n",
    "    if (episode+1)%checkpoint==0:\n",
    "        print(\"Number of games played \",episode+1,\"agent win %\",(agent_win/(episode+1))*100,\"environment win %\",(env_win/(episode+1))*100,\"Match Tie %\",(match_tie/(episode+1))*100)\n",
    "    if ((episode + 1) % threshold) == 0:   \n",
    "        save_tracking_states()  \n",
    "elapsed_time = tick.time() - start_time\n",
    "# Save Tracking States\n",
    "save_obj(States_track,'States_tracked')   \n",
    "# Save Q dictionary\n",
    "save_obj(Q_dict,'Policy')"
   ]
  },
  {
   "cell_type": "markdown",
   "metadata": {
    "id": "SmTAk3qrMfg5"
   },
   "source": [
    "### Observation\n",
    "- We see that agent has learnt the numerical tic tac toe game fairly with win percentage of almost 80% . \n",
    "- We also see that match was tied 12% which also tells that agent has learnt the game accurately. "
   ]
  },
  {
   "cell_type": "markdown",
   "metadata": {
    "id": "t6eMFbb8Ggg2"
   },
   "source": [
    "#### Check the Q-dictionary"
   ]
  },
  {
   "cell_type": "code",
   "execution_count": 2,
   "metadata": {
    "ExecuteTime": {
     "end_time": "2021-04-05T05:29:18.458509Z",
     "start_time": "2021-04-05T05:29:12.927170Z"
    },
    "id": "APdmRLquPP-Q"
   },
   "outputs": [],
   "source": [
    "# Uncomment the following code to read Q Dictionary from pickle files\n",
    "\n",
    "with open('Policy.pkl', 'rb') as handle:\n",
    "    Q_dict = pickle.load(handle)\n",
    "    \n",
    "with open('States_tracked.pkl', 'rb') as handle:\n",
    "    States_track = pickle.load(handle) "
   ]
  },
  {
   "cell_type": "code",
   "execution_count": null,
   "metadata": {
    "colab": {
     "base_uri": "https://localhost:8080/"
    },
    "id": "fr9d2fcVGgg4",
    "outputId": "929df085-5996-4c1c-e30e-df783ed26b1a"
   },
   "outputs": [],
   "source": [
    "# Lets check the Q Dictionary\n",
    "Q_dict.keys()"
   ]
  },
  {
   "cell_type": "code",
   "execution_count": 3,
   "metadata": {
    "ExecuteTime": {
     "end_time": "2021-04-05T05:29:23.951033Z",
     "start_time": "2021-04-05T05:29:23.946415Z"
    },
    "colab": {
     "base_uri": "https://localhost:8080/"
    },
    "id": "F1tnDJWkGgg9",
    "outputId": "e275045d-9b59-4c88-aa95-36384cfd12fe"
   },
   "outputs": [
    {
     "data": {
      "text/plain": [
       "1295415"
      ]
     },
     "execution_count": 3,
     "metadata": {},
     "output_type": "execute_result"
    }
   ],
   "source": [
    "# lets check how many states\n",
    "len(Q_dict)"
   ]
  },
  {
   "cell_type": "code",
   "execution_count": 28,
   "metadata": {
    "colab": {
     "base_uri": "https://localhost:8080/"
    },
    "id": "qp4qULHHNByW",
    "outputId": "6b108a01-7bff-403b-dbbb-5056d5bf226c"
   },
   "outputs": [
    {
     "data": {
      "text/plain": [
       "dict_keys(['x-3-x-x-x-6-x-x-x', 'x-1-x-x-x-x-8-x-x', 'x-x-x-x-6-x-x-x-5', 'x-x-x-x-9-x-6-x-x', 'x-5-x-2-x-x-4-7-x', '9-x-5-x-x-x-8-x-4', '2-7-x-x-6-x-x-3-x', '9-x-x-x-x-2-x-x-x', 'x-x-7-x-x-x-x-x-2', '5-x-x-x-x-6-x-x-x', '4-x-x-6-x-x-3-1-x', '5-x-8-x-x-6-3-x-x', 'x-6-5-x-2-x-x-3-x', '7-x-5-x-2-x-x-x-6', '9-x-x-x-x-x-4-7-x', 'x-5-x-x-x-x-4-7-x'])"
      ]
     },
     "execution_count": 28,
     "metadata": {
      "tags": []
     },
     "output_type": "execute_result"
    }
   ],
   "source": [
    "# lets check the states\n",
    "States_track.keys()"
   ]
  },
  {
   "cell_type": "code",
   "execution_count": 4,
   "metadata": {
    "ExecuteTime": {
     "end_time": "2021-04-05T05:29:29.361559Z",
     "start_time": "2021-04-05T05:29:29.358489Z"
    },
    "colab": {
     "base_uri": "https://localhost:8080/"
    },
    "id": "7STE7vjUNJx-",
    "outputId": "a4278380-9cf9-4803-c1d4-415f2e6271e3"
   },
   "outputs": [
    {
     "data": {
      "text/plain": [
       "dict_keys([(0, 1)])"
      ]
     },
     "execution_count": 4,
     "metadata": {},
     "output_type": "execute_result"
    }
   ],
   "source": [
    "# Lets check the action for 'x-3-x-x-x-6-x-x-x'\n",
    "States_track['x-3-x-x-x-6-x-x-x'].keys()"
   ]
  },
  {
   "cell_type": "code",
   "execution_count": 19,
   "metadata": {
    "colab": {
     "base_uri": "https://localhost:8080/"
    },
    "id": "cFgUqfcQGghB",
    "outputId": "a6810544-fef4-4155-c4ca-a217f8ade370"
   },
   "outputs": [
    {
     "data": {
      "text/plain": [
       "{(0, 1): -0.931280523264,\n",
       " (0, 5): -0.38074764595009936,\n",
       " (0, 7): -0.6775104725622503,\n",
       " (0, 9): -0.6311642579674671,\n",
       " (2, 1): -0.9774820018631475,\n",
       " (2, 5): 0.7510259313008518,\n",
       " (2, 7): -0.4487509421511474,\n",
       " (2, 9): -0.9450244186112,\n",
       " (3, 1): -1.3931606656000002,\n",
       " (3, 5): 0.1035521167360004,\n",
       " (3, 7): -1.7230489645314653,\n",
       " (3, 9): -0.9450244186112,\n",
       " (4, 1): -0.931280523264,\n",
       " (4, 5): -0.9774820018631475,\n",
       " (4, 7): -1.3743009205447942,\n",
       " (4, 9): -0.5810715744794088,\n",
       " (6, 1): -0.89022225408,\n",
       " (6, 5): -0.1891968000455343,\n",
       " (6, 7): -0.925731425517568,\n",
       " (6, 9): -0.5226317323924144,\n",
       " (7, 1): -0.576937227911168,\n",
       " (7, 5): -0.8367207188889599,\n",
       " (7, 7): -0.7975979138649948,\n",
       " (7, 9): 4.025312355645897,\n",
       " (8, 1): -0.9450244186112,\n",
       " (8, 5): -1.3682639879631453,\n",
       " (8, 7): -1.3881864715627514,\n",
       " (8, 9): -0.8257262060066115}"
      ]
     },
     "execution_count": 19,
     "metadata": {
      "tags": []
     },
     "output_type": "execute_result"
    }
   ],
   "source": [
    "# try checking for one of the states - that which action your agent thinks is the best  -----This will not be evaluated\n",
    "Q_dict['x-3-x-x-x-6-x-x-x']"
   ]
  },
  {
   "cell_type": "code",
   "execution_count": 5,
   "metadata": {
    "ExecuteTime": {
     "end_time": "2021-04-05T05:29:33.068780Z",
     "start_time": "2021-04-05T05:29:32.926190Z"
    },
    "colab": {
     "base_uri": "https://localhost:8080/",
     "height": 265
    },
    "id": "Yv4FKrrMNSF1",
    "outputId": "c91dff21-6a41-4900-9873-17e8201fb27b"
   },
   "outputs": [
    {
     "data": {
      "image/png": "[encoded data removed]",
      "text/plain": [
       "<Figure size 432x288 with 1 Axes>"
      ]
     },
     "metadata": {
      "needs_background": "light"
     },
     "output_type": "display_data"
    }
   ],
   "source": [
    "# lets plot the convergence\n",
    "t1=States_track['x-3-x-x-x-6-x-x-x'][(0,1)]\n",
    "plt.plot(np.asarray(range(0, len(t1))),np.asarray(t1))\n",
    "plt.show()"
   ]
  },
  {
   "cell_type": "markdown",
   "metadata": {
    "id": "Ea-eGkSoICGJ"
   },
   "source": [
    "# Q-values convergence"
   ]
  },
  {
   "cell_type": "markdown",
   "metadata": {
    "id": "KGPZEQDFGghG"
   },
   "source": [
    "#### Check the states tracked for Q-values convergence\n",
    "(non-evaluative)"
   ]
  },
  {
   "cell_type": "markdown",
   "metadata": {
    "id": "tfjE-reUIEiA"
   },
   "source": [
    "### All Q-values convergence"
   ]
  },
  {
   "cell_type": "code",
   "execution_count": 6,
   "metadata": {
    "ExecuteTime": {
     "end_time": "2021-04-05T05:29:37.563979Z",
     "start_time": "2021-04-05T05:29:36.453299Z"
    },
    "colab": {
     "base_uri": "https://localhost:8080/",
     "height": 934
    },
    "id": "LiIWoCDsEm2a",
    "outputId": "16445b1d-7f60-4dc6-d1d7-bced8736cb75"
   },
   "outputs": [
    {
     "data": {
      "image/png": "[encoded data removed]",
      "text/plain": [
       "<Figure size 1152x1152 with 14 Axes>"
      ]
     },
     "metadata": {
      "needs_background": "light"
     },
     "output_type": "display_data"
    }
   ],
   "source": [
    "# Lets print state value convergence for all states tracked\n",
    "# initialise row count for subplots\n",
    "r_count=1\n",
    "# set figure size\n",
    "plt.figure(0, figsize=(16,16))\n",
    "# For all states, print the state value convergence\n",
    "for i in list(States_track.keys()):\n",
    "    act = list(States_track[i].keys())\n",
    "    t = States_track[i][act[0]]\n",
    "    plt.subplot(4,4,r_count)\n",
    "    r_count+=1\n",
    "    plt.title(\"(s,a)=('\"+i+\"),(\"+str(act[0][0])+\",\"+str(act[0][1])+\")\")\n",
    "    plt.plot(np.asarray(range(0, len(t))),np.asarray(t))"
   ]
  },
  {
   "cell_type": "markdown",
   "metadata": {
    "id": "iuFN1nggLr-7"
   },
   "source": [
    "### Observation\n",
    "- We see that for most of the states that we tracked, have converged at the end as the line has become parallel to x-axis"
   ]
  },
  {
   "cell_type": "code",
   "execution_count": null,
   "metadata": {
    "id": "9s1Tvz8HGghH"
   },
   "outputs": [],
   "source": [
    "# Write the code for plotting the graphs for state-action pairs tracked"
   ]
  },
  {
   "cell_type": "markdown",
   "metadata": {
    "id": "c-YkFEDLIIGZ"
   },
   "source": [
    "### Best Q-values convergence\n",
    "- let's pick 4 best state value convergence and plot convergence graph"
   ]
  },
  {
   "cell_type": "code",
   "execution_count": 7,
   "metadata": {
    "ExecuteTime": {
     "end_time": "2021-04-05T05:29:52.460220Z",
     "start_time": "2021-04-05T05:29:52.131954Z"
    },
    "colab": {
     "base_uri": "https://localhost:8080/",
     "height": 237
    },
    "id": "pVQInsg7GghL",
    "outputId": "ffaef580-24e0-4f86-f32f-e72fe3b153a1"
   },
   "outputs": [
    {
     "data": {
      "image/png": "[encoded data removed]",
      "text/plain": [
       "<Figure size 1152x504 with 4 Axes>"
      ]
     },
     "metadata": {
      "needs_background": "light"
     },
     "output_type": "display_data"
    }
   ],
   "source": [
    "Q_dict['x-3-x-x-x-6-x-x-x']\n",
    "plt.figure(0, figsize=(16,7))\n",
    "plt.subplot(2,4,1)\n",
    "t1=States_track['x-3-x-x-x-6-x-x-x'][(0,1)]\n",
    "plt.title(\"(state,action)=('x-3-x-x-x-6-x-x-x',(0,1))\")\n",
    "plt.plot(np.asarray(range(0, len(t1))),np.asarray(t1))\n",
    "\n",
    "plt.subplot(2,4,2)\n",
    "t2=States_track['x-x-x-x-6-x-x-x-5'][(2,7)]\n",
    "plt.title(\"(state,action)=('x-x-x-x-6-x-x-x-5',(2,7))\")\n",
    "plt.plot(np.asarray(range(0, len(t2))),np.asarray(t2))\n",
    "\n",
    "plt.subplot(2,4,3)\n",
    "t3=States_track['5-x-x-x-x-6-x-x-x'][(4,9)]\n",
    "plt.title(\"(state,action)=('5-x-x-x-x-6-x-x-x',(4,9))\")\n",
    "plt.plot(np.asarray(range(0, len(t3))),np.asarray(t3))\n",
    "\n",
    "plt.subplot(2,4,4)\n",
    "t4=States_track['x-x-x-x-9-x-6-x-x'][(1,7)]\n",
    "plt.title(\"(state,action)=('x-x-x-x-9-x-6-x-x',(1,7))\")\n",
    "plt.plot(np.asarray(range(0, len(t4))),np.asarray(t4))\n",
    "\n",
    "plt.show()"
   ]
  },
  {
   "cell_type": "markdown",
   "metadata": {
    "id": "dX0njFpiMKfs"
   },
   "source": [
    "### Observation\n",
    "- As we in the graphs above, the q values have converged at the end as the line has become parallel. "
   ]
  },
  {
   "cell_type": "markdown",
   "metadata": {
    "id": "b2Opp8_NITkC"
   },
   "source": [
    "### Epsilon - decay check"
   ]
  },
  {
   "cell_type": "code",
   "execution_count": 26,
   "metadata": {
    "id": "gQ_D_JsuGghR"
   },
   "outputs": [],
   "source": [
    "max_epsilon = 1.0\n",
    "min_epsilon = 0.001\n",
    "time = np.arange(0,5000000)\n",
    "epsilon = []\n",
    "for i in range(0,5000000):\n",
    "    epsilon.append(min_epsilon + (max_epsilon - min_epsilon) * np.exp(-0.000001*i))"
   ]
  },
  {
   "cell_type": "code",
   "execution_count": 27,
   "metadata": {
    "colab": {
     "base_uri": "https://localhost:8080/",
     "height": 278
    },
    "id": "J7c2xADQGghV",
    "outputId": "feaaa389-ce08-4522-bd71-ec5ea4eb9f97"
   },
   "outputs": [
    {
     "data": {
      "image/png": "[encoded data removed]",
      "text/plain": [
       "<Figure size 432x288 with 1 Axes>"
      ]
     },
     "metadata": {
      "needs_background": "light",
      "tags": []
     },
     "output_type": "display_data"
    }
   ],
   "source": [
    "plt.plot(time, epsilon)\n",
    "plt.show()"
   ]
  },
  {
   "cell_type": "code",
   "execution_count": null,
   "metadata": {
    "id": "59BRf43IJiQ1"
   },
   "outputs": [],
   "source": []
  }
 ],
 "metadata": {
  "accelerator": "GPU",
  "colab": {
   "collapsed_sections": [],
   "name": "TicTacToe_Agent.ipynb",
   "provenance": []
  },
  "kernelspec": {
   "display_name": "Python 3",
   "language": "python",
   "name": "python3"
  },
  "language_info": {
   "codemirror_mode": {
    "name": "ipython",
    "version": 3
   },
   "file_extension": ".py",
   "mimetype": "text/x-python",
   "name": "python",
   "nbconvert_exporter": "python",
   "pygments_lexer": "ipython3",
   "version": "3.8.5"
  },
  "varInspector": {
   "cols": {
    "lenName": 16,
    "lenType": 16,
    "lenVar": 40
   },
   "kernels_config": {
    "python": {
     "delete_cmd_postfix": "",
     "delete_cmd_prefix": "del ",
     "library": "var_list.py",
     "varRefreshCmd": "print(var_dic_list())"
    },
    "r": {
     "delete_cmd_postfix": ") ",
     "delete_cmd_prefix": "rm(",
     "library": "var_list.r",
     "varRefreshCmd": "cat(var_dic_list()) "
    }
   },
   "types_to_exclude": [
    "module",
    "function",
    "builtin_function_or_method",
    "instance",
    "_Feature"
   ],
   "window_display": false
  }
 },
 "nbformat": 4,
 "nbformat_minor": 1
}
